{
  "nbformat": 4,
  "nbformat_minor": 0,
  "metadata": {
    "colab": {
      "provenance": []
    },
    "kernelspec": {
      "name": "python3",
      "display_name": "Python 3"
    },
    "language_info": {
      "name": "python"
    }
  },
  "cells": [
    {
      "cell_type": "code",
      "execution_count": 1,
      "metadata": {
        "colab": {
          "base_uri": "https://localhost:8080/"
        },
        "id": "F7akL_OX4tBG",
        "outputId": "743fc0ad-efb6-4cf0-9db6-fc27c345b978"
      },
      "outputs": [
        {
          "output_type": "stream",
          "name": "stdout",
          "text": [
            "List after adding element: [1, 12, 30, 56, 90, 61]\n",
            "List after removing element: [1, 12, 56, 90, 61]\n",
            "List after modifying element: [11, 12, 56, 90, 61]\n"
          ]
        }
      ],
      "source": [
        "\n",
        "list1 = [1, 12, 30, 56, 90]\n",
        "\n",
        "list1.append(61)\n",
        "print(\"List after adding element:\", list1)\n",
        "\n",
        "list1.remove(30)\n",
        "print(\"List after removing element:\", list1)\n",
        "\n",
        "\n",
        "list1[0] = 11\n",
        "print(\"List after modifying element:\", list1)\n",
        "\n",
        "\n",
        "\n",
        "\n"
      ]
    },
    {
      "cell_type": "code",
      "source": [
        "my_dict = {'a': 12, 'b': 20, 'c': 33}\n",
        "\n",
        "my_dict['d'] = 47\n",
        "print(\"Dictionary after adding element:\", my_dict)\n",
        "\n",
        "\n",
        "del my_dict['b']\n",
        "print(\"Dictionary after removing element:\", my_dict)\n",
        "\n",
        "my_dict['a'] = 100\n",
        "print(\"Dictionary after modifying value:\", my_dict)\n",
        "\n",
        "\n",
        "\n",
        "\n",
        "\n",
        "\n"
      ],
      "metadata": {
        "colab": {
          "base_uri": "https://localhost:8080/"
        },
        "id": "RqlKuBu-43Hi",
        "outputId": "e1e6414e-aec0-455f-b032-5436a5a83beb"
      },
      "execution_count": 2,
      "outputs": [
        {
          "output_type": "stream",
          "name": "stdout",
          "text": [
            "Dictionary after adding element: {'a': 12, 'b': 20, 'c': 33, 'd': 47}\n",
            "Dictionary after removing element: {'a': 12, 'c': 33, 'd': 47}\n",
            "Dictionary after modifying value: {'a': 100, 'c': 33, 'd': 47}\n"
          ]
        }
      ]
    },
    {
      "cell_type": "code",
      "source": [
        "\n",
        "my_set = {1, 2, 3, 4, 5}\n",
        "\n",
        "my_set.add(6)\n",
        "print(\"Set after adding element:\", my_set)\n",
        "\n",
        "my_set.remove(3)\n",
        "print(\"Set after removing element:\", my_set)\n",
        "\n",
        "\n"
      ],
      "metadata": {
        "colab": {
          "base_uri": "https://localhost:8080/"
        },
        "id": "G_KSUPhR45Kk",
        "outputId": "e19f75aa-0276-41ba-f1f9-8799ba5c0280"
      },
      "execution_count": 3,
      "outputs": [
        {
          "output_type": "stream",
          "name": "stdout",
          "text": [
            "Set after adding element: {1, 2, 3, 4, 5, 6}\n",
            "Set after removing element: {1, 2, 4, 5, 6}\n"
          ]
        }
      ]
    }
  ]
}